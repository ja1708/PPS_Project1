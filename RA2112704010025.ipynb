{
  "nbformat": 4,
  "nbformat_minor": 0,
  "metadata": {
    "colab": {
      "name": "Untitled1.ipynb",
      "provenance": [],
      "authorship_tag": "ABX9TyNH2kfRtP7F3zQBQKtEYIVz",
      "include_colab_link": true
    },
    "kernelspec": {
      "name": "python3",
      "display_name": "Python 3"
    },
    "language_info": {
      "name": "python"
    }
  },
  "cells": [
    {
      "cell_type": "markdown",
      "metadata": {
        "id": "view-in-github",
        "colab_type": "text"
      },
      "source": [
        "<a href=\"https://colab.research.google.com/github/ja1708/PPS_Project1/blob/main/RA2112704010025.ipynb\" target=\"_parent\"><img src=\"https://colab.research.google.com/assets/colab-badge.svg\" alt=\"Open In Colab\"/></a>"
      ]
    },
    {
      "cell_type": "code",
      "execution_count": 10,
      "metadata": {
        "id": "C2Z2Not2YD35"
      },
      "outputs": [],
      "source": [
        "import pandas as pd\n",
        "LoD={\"NAME\":[\"Jai\",\"Khandelwal\",],\"RollNo\":[1,2,3]}\n",
        "D1=pd.DataFrame.from_dict(LoD, orient='index')"
      ]
    },
    {
      "cell_type": "code",
      "source": [
        "import numpy as np\n",
        "a, b, c = map(int,input().split())\n",
        "arr1 = np.array([input().split() for _ in range(a)],int)\n",
        "arr2 = np.array([input().split() for _ in range(b)],int)\n",
        "print(np.concatenate((arr1, arr2), axis = 0))"
      ],
      "metadata": {
        "colab": {
          "base_uri": "https://localhost:8080/"
        },
        "id": "F15oKXMxYIEo",
        "outputId": "06bf344c-ef90-4a5a-a004-d41f65822cc6"
      },
      "execution_count": 16,
      "outputs": [
        {
          "output_type": "stream",
          "name": "stdout",
          "text": [
            "1 2 3\n",
            "222\n",
            "123\n",
            "145\n",
            "[[222]\n",
            " [123]\n",
            " [145]]\n"
          ]
        }
      ]
    },
    {
      "cell_type": "code",
      "source": [
        "import numpy as np\n",
        "import pandas as pd\n",
        "\"\"\"Analysis of 7 Countries\"\"\"\n",
        "df=pd.DataFrame({\n",
        "    'Population' : [35.467, 63.951, 80.94, 60.665, 127.061, 65.511, 318.523],\n",
        "    'GDP' : [8574536, 3425674, 1754753, 2464567, 3542567, 5432567, 43256753],\n",
        "    'Surface Area' : [9483209, 235123, 453256, 673829, 475829 , 832476, 8574638],\n",
        "    'HDI' : [0.645, 0.754, 0.967, 0.342, 0.564, 0.976, 0.866],\n",
        "    'Continent' : ['America', 'Europe', 'Europe', 'Europe', 'Asia', 'Europe', 'America']\n",
        "\n",
        "},columns=['Population', 'GDP', 'Surface Area', 'HDI', 'Continent'])\n",
        "df.index=[\n",
        "          'Canada',\n",
        "          'France',\n",
        "          'Germany',\n",
        "          'Italy',\n",
        "          'Japan',\n",
        "          'United Kingdom',\n",
        "          'United States']\n",
        "print(df)\n",
        "print()\n",
        "print(df.loc['Canada'])\n",
        "print()\n",
        "print(\"Mean: \")\n",
        "print(df.mean())\n",
        "crisis=pd.Series([-1000000,-0.3], index=['GDP', 'HDI'])\n",
        "print()\n",
        "print(df[['GDP','HDI']]+crisis)\n",
        "lang=pd.Series(\n",
        "                ['French','German','Italian'],\n",
        "               index=['France','Germany','Italy']\n",
        ")\n",
        "df['Language']=lang\n",
        "print()\n",
        "print(df)"
      ],
      "metadata": {
        "colab": {
          "base_uri": "https://localhost:8080/"
        },
        "id": "qiEqtdAMYMUr",
        "outputId": "55f0d6f7-412c-4542-a93f-42f981312e70"
      },
      "execution_count": 17,
      "outputs": [
        {
          "output_type": "stream",
          "name": "stdout",
          "text": [
            "                Population       GDP  Surface Area    HDI Continent\n",
            "Canada              35.467   8574536       9483209  0.645   America\n",
            "France              63.951   3425674        235123  0.754    Europe\n",
            "Germany             80.940   1754753        453256  0.967    Europe\n",
            "Italy               60.665   2464567        673829  0.342    Europe\n",
            "Japan              127.061   3542567        475829  0.564      Asia\n",
            "United Kingdom      65.511   5432567        832476  0.976    Europe\n",
            "United States      318.523  43256753       8574638  0.866   America\n",
            "\n",
            "Population       35.467\n",
            "GDP             8574536\n",
            "Surface Area    9483209\n",
            "HDI               0.645\n",
            "Continent       America\n",
            "Name: Canada, dtype: object\n",
            "\n",
            "Mean: \n",
            "Population      1.074454e+02\n",
            "GDP             9.778774e+06\n",
            "Surface Area    2.961194e+06\n",
            "HDI             7.305714e-01\n",
            "dtype: float64\n",
            "\n",
            "                       GDP    HDI\n",
            "Canada           7574536.0  0.345\n",
            "France           2425674.0  0.454\n",
            "Germany           754753.0  0.667\n",
            "Italy            1464567.0  0.042\n",
            "Japan            2542567.0  0.264\n",
            "United Kingdom   4432567.0  0.676\n",
            "United States   42256753.0  0.566\n",
            "\n",
            "                Population       GDP  Surface Area    HDI Continent Language\n",
            "Canada              35.467   8574536       9483209  0.645   America      NaN\n",
            "France              63.951   3425674        235123  0.754    Europe   French\n",
            "Germany             80.940   1754753        453256  0.967    Europe   German\n",
            "Italy               60.665   2464567        673829  0.342    Europe  Italian\n",
            "Japan              127.061   3542567        475829  0.564      Asia      NaN\n",
            "United Kingdom      65.511   5432567        832476  0.976    Europe      NaN\n",
            "United States      318.523  43256753       8574638  0.866   America      NaN\n"
          ]
        },
        {
          "output_type": "stream",
          "name": "stderr",
          "text": [
            "/usr/local/lib/python3.7/dist-packages/ipykernel_launcher.py:25: FutureWarning: Dropping of nuisance columns in DataFrame reductions (with 'numeric_only=None') is deprecated; in a future version this will raise TypeError.  Select only valid columns before calling the reduction.\n"
          ]
        }
      ]
    }
  ]
}